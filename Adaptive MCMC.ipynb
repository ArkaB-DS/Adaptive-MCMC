{
 "cells": [
  {
   "cell_type": "markdown",
   "id": "short-skiing",
   "metadata": {},
   "source": [
    "# <font color=seagreen>Adaptive MCMC</font>\n",
    "This notebook will contain the overall sequence of our project"
   ]
  },
  {
   "cell_type": "markdown",
   "id": "verbal-coordination",
   "metadata": {},
   "source": [
    "## <font color= navy> Part 1 : Optimal Scaling for a Random Walk Metropolis-Hastings Algorithm</font>\n",
    "We need to choose the correct value of h to get good exploration as well as good acceptance probability."
   ]
  },
  {
   "cell_type": "code",
   "execution_count": 9,
   "id": "presidential-collectible",
   "metadata": {},
   "outputs": [
    {
     "data": {
      "image/png": "[encoded data removed]",
      "text/plain": [
       "Plot with title \"Fig. 2. Simple Metropolis algorithm with (a) too-large variance (left plots), (b) too-small variance (middle) and \n",
       "(c) appropriate variance\n",
       "(right). Trace plots (top) and autocorrelation plots (below) are shown for each case.\""
      ]
     },
     "metadata": {},
     "output_type": "display_data"
    }
   ],
   "source": [
    "## optimal scaling and motivation for adaptive mcmc\n",
    "set.seed(1011) # for reproducibility\n",
    "\n",
    "# target - N(0,1)\n",
    "# proposal - N(x,h) where h is to be chosen\n",
    "\n",
    "N <- 1e5  # length of the chain\n",
    "\n",
    "rwmh <- function(N=1e3,h){\n",
    "    X <- numeric(N) # creating MC\n",
    "    X <- -1 # starting value\n",
    "    p <- 0 # for calculating acc. prob.\n",
    "    # implementing RWMH\n",
    "    for(i in 2:N)\n",
    "    {\n",
    "     Y <- rnorm( 1 , mean = X[i-1] , sd = sqrt(h) )\n",
    "     if( runif(1) < dnorm(Y)/dnorm(X[i-1]) ) \n",
    "     {\n",
    "      X[i] <- Y\n",
    "      p <- p+1\n",
    "      } else {\n",
    "      X[i] <- X[i-1]\n",
    "     }\n",
    "    } \n",
    "    return( list(acc.prob=p/N, chain=X) )\n",
    "}\n",
    "\n",
    "# plots\n",
    "\n",
    "#par(mfrow=c(2,3))\n",
    "layout(matrix(c(1,2,3,4,5,6,7,7,7), ncol=3, byrow=TRUE), heights=c(2,2,1))\n",
    "plot.ts(rwmh(h=1000)$chain,col=\"seagreen\",\n",
    "xlab=\"(a) Proposal variance too large\",ylab=\"d1\")\n",
    "ts.plot(rwmh(h=0.0001)$chain,col=\"seagreen\",\n",
    "xlab=\"(b) Proposal variance too small\",ylab=\"d2\")\n",
    "ts.plot(rwmh(h=2)$chain,col=\"seagreen\",\n",
    "xlab=\"(c) Proposal variance approximately optimized\",ylab=\"d3\")\n",
    "acf(rwmh(h=1000)$chain,col=\"seagreen\",main=\"\")\n",
    "acf(rwmh(h=0.0001)$chain,col=\"seagreen\",main=\"\")\n",
    "acf(rwmh(h=2)$chain,col=\"seagreen\",main=\"\")\n",
    "\n",
    "title(\"Fig. 2. Simple Metropolis algorithm with (a) too-large variance (left plots), (b) too-small variance (middle) and \\n(c) appropriate variance\n",
    "(right). Trace plots (top) and autocorrelation plots (below) are shown for each case.\",\n",
    "line = -45, outer = TRUE,font.main=1)"
   ]
  },
  {
   "cell_type": "markdown",
   "id": "limited-trinidad",
   "metadata": {},
   "source": [
    "## <font color=navy>Part 2 : Adaptive MH</font>\n",
    "Although doing optimal scaling by hit-and-trial is feasible in one-dimension, it can become increasingly difficult in higher dimesions as expected. We have already seen this hands-on while doing the HW problems in our course MTH707A : MCMC .\n",
    "One approach is to let the MCMC algorithm adapt - i.e. learn by itself what can be the suitable parameters. \n",
    "As an example, below we see thr adpative MH for an ill-conditioned variance-covarinace matrix for a multivariate normal distributuion with mean 0."
   ]
  },
  {
   "cell_type": "code",
   "execution_count": 4,
   "id": "iraqi-strengthening",
   "metadata": {},
   "outputs": [
    {
     "name": "stderr",
     "output_type": "stream",
     "text": [
      "Warning message:\n",
      "\"package 'mvtnorm' was built under R version 3.6.3\""
     ]
    },
    {
     "data": {
      "text/plain": [
       "Time difference of 11.89264 mins"
      ]
     },
     "metadata": {},
     "output_type": "display_data"
    },
    {
     "name": "stdout",
     "output_type": "stream",
     "text": [
      "The acceptance probability is:  0.07298"
     ]
    },
    {
     "data": {
      "image/png": "[encoded data removed]",
      "text/plain": [
       "plot without title"
      ]
     },
     "metadata": {},
     "output_type": "display_data"
    }
   ],
   "source": [
    "start <- Sys.time()\n",
    "set.seed(1011) # for reproducibility\n",
    "library(mvtnorm) # to deal with multivariate normal distribution\n",
    "# library(clusterGeneration) # to help generate the variance-covarinace matrix using eigen values\n",
    "\n",
    "d <- 4 # dimension\n",
    "N <- 5e4 # length of MC\n",
    "X <- matrix(d,nrow=N+1,ncol=d)\n",
    "\n",
    "\n",
    "# generating a Sigma for the target distribution\n",
    "#eig <- seq(1,1e1,length=d) \n",
    "#Sigma <- genPositiveDefMat(dim=d,covMethod=\"eigen\",eigenvalue=eig)$Sigma \n",
    "M <- matrix(rnorm(d*d),nrow=d)\n",
    "Sigma <- M%*%t(M)\n",
    "\n",
    "# target - N_10(mean=0, var= Sigma)\n",
    "\n",
    "beta <- .05\n",
    "p=0 # for calculating acceptance probability\n",
    "\n",
    "# implementing the adaptive MH\n",
    "Sigma_n <- cov(X)\n",
    "for(i in 3:(N+1))\n",
    "{\n",
    " # print(i)\n",
    " Sigma_n <- (i-2)/(i-1)*Sigma_n + 1/(i)*as.matrix(apply(X[1:(i-1),],2,mean)%*%t(apply(X[1:(i-1),],2,mean))-\n",
    "                                       (X[i,])%*%t(as.matrix(apply(X[1:(i-1),],2,mean)))-\n",
    "                                       as.matrix(apply(X[1:(i-1),],2,mean))%*%t(X[i,])+X[i,]%*%t(X[i,]))\n",
    " # proposing\n",
    " if (i<=2*d) \n",
    "     {\n",
    "     Y<- rmvnorm( n = 1 , mean = X[i-1,] , sigma = 0.1^2/d*diag(d) )\n",
    "     } else {    \n",
    " if( rbinom( n = 1 , size = 1 , prob = beta) ){ \n",
    " Y<- rmvnorm( n = 1 , mean = X[i-1,] , sigma = 0.1^2/d*diag(d) )\n",
    " } else {\n",
    " Y<- rmvnorm( n = 1 , mean = X[i-1,] , sigma = 2.38^2/d*Sigma_n )  \n",
    "        }\n",
    "            }\n",
    " Y <- as.vector(Y)\n",
    " U <- runif(1)\n",
    " r <- dmvnorm( Y , mean = rep(0,d) , sigma = Sigma )/dmvnorm( X[i-1,] , mean = rep(0,d) , sigma = Sigma)  \n",
    " if ( U < r )\n",
    " {\n",
    "  X[i,] <- Y\n",
    "  p <- p+1\n",
    " } else{\n",
    "  X[i,] <- X[i-1,]\n",
    "       }\n",
    "}\n",
    "Sys.time()-start\n",
    "cat(\"The acceptance probability is: \",p/N)\n",
    "#par(mfrow=c(2,1),bg=\"pink\") \n",
    "ts.plot(X[,3],ylab=i,col=\"brown\")\n",
    "# acf(X[,3],ylab=i,col=\"blue\",main=\"\")\n"
   ]
  },
  {
   "cell_type": "markdown",
   "id": "bound-kazakhstan",
   "metadata": {},
   "source": [
    "## <font color=navy> Adaptive portkey in Gamma mixture of Weibulls</font>\n",
    "Here, the power of adaptive MCMC is not revealed as it is a one-dimensional problem. "
   ]
  },
  {
   "cell_type": "code",
   "execution_count": 3,
   "id": "referenced-cotton",
   "metadata": {},
   "outputs": [
    {
     "name": "stdout",
     "output_type": "stream",
     "text": [
      "The acceptance probability for MCA at beta= 0.99 is 0.551 \n",
      "The acceptance probability for MCNA at beta= 0.99 is 0.4562 \n",
      "The acceptance probability for MCA at beta= 0.90 is 0.3323 \n",
      "The acceptance probability for MCNA at beta= 0.90 is 0.2748 \n",
      "The acceptance probability for MCA at beta= 0.75 is 0.2005 \n",
      "The acceptance probability for MCNA at beta= 0.75 is 0.1679 \n"
     ]
    },
    {
     "data": {
      "image/png": "[encoded data removed]",
      "text/plain": [
       "Plot with title \"paste(beta, \" = 0.75\")\""
      ]
     },
     "metadata": {},
     "output_type": "display_data"
    }
   ],
   "source": [
    "set.seed(1011) # for reproducibility\n",
    "\n",
    "### portkey 2-coin algorithm\n",
    "p2c <- function(beta=0.75,x,y,k=10)\n",
    "{\n",
    " while(1){\n",
    " S <- rbinom(n = 1, size = 1, prob = beta)\n",
    " if (S==0) return(0)\n",
    " if (S==1)\n",
    " {\n",
    "  C1 <- rbinom(n = 1, size = 1, prob = x/(x+y) )\n",
    "  if (C1==1)\n",
    "  {\n",
    "   C2 <- ifelse(runif(1)<(dweibull(y, scale=rgamma(1,10,100),shape=k)/(k/exp(1)*y)),1,0)\n",
    "   if (C2==1) {\n",
    "    return(1) } else (next)\n",
    "  }\n",
    " }\n",
    "  else\n",
    "  {\n",
    "   C2 <- ifelse(runif(1)<(dweibull(x, scale=rgamma(1,10,100),shape=k)/(k/exp(1)*x)),1,0)\n",
    "   if (C2==1) {\n",
    "\treturn(0) } else (next)\n",
    "  }\n",
    "         }\n",
    "}\n",
    "\n",
    "## MC function for adaptive portkey\n",
    "# X for adaptive\n",
    "\n",
    "# beta---0.05 (for adaptive MCMC)\n",
    "\n",
    "MCA <- function(N=1e4,b=0.75){\n",
    "X <- numeric(N) # creating  the MC\n",
    "X[1] <- .1\n",
    "\n",
    "p=0 # adaptive \n",
    "for (i in 2:N)\n",
    "{ #print(i)\n",
    " Sigma_n <- (N-1)/N*var(X)\n",
    "# Y <- ifelse(rbinom(n=1,size=1,prob=0.05),rnorm(n=1,mean=X[i-1],sd=0.1),\n",
    " #            rnorm(n=1,mean=X[i-1],sd=sqrt(2.38^2*Sigma_n)))\n",
    "\n",
    " if (i<=2) \n",
    "     {\n",
    "     Y<- rnorm( n = 1 , mean = X[i-1] , sd =0.1 )\n",
    "     } else {    \n",
    " if( rbinom( n = 1 , size = 1 , prob = b) ){ \n",
    " Y<- rnorm( n = 1 , mean = X[i-1] , sd = 0.1 )\n",
    " } else {\n",
    " Y<- rnorm( n = 1 , mean = X[i-1] , sd = sqrt(2.38^2*Sigma_n) )  \n",
    "        }\n",
    "            }\n",
    "\n",
    " if (Y<0) {\n",
    " X[i] <- X[i-1]\n",
    " next }\n",
    " if(p2c(x=X[i-1],y=Y,beta=b))\n",
    " {\n",
    "  X[i] <- Y\n",
    "  p <- p+1\n",
    " } else{\n",
    " X[i] <- X[i-1]\n",
    "       } \n",
    "}\n",
    " return (list(\"chain\"=X,\"acc.prob\" =p/N))\n",
    "}\n",
    "\n",
    "## MC function for non-adaptive portkey\n",
    "\n",
    "MCNA <- function(N=1e4,b=0.75){\n",
    "Z <- numeric(N) # creating  the MC\n",
    "Z[1] <- .1\n",
    "\n",
    "p=0 # adaptive \n",
    "for (i in 2:N)\n",
    "{ #print(i)\n",
    " Y <- rnorm(1,mean=Z[i-1],sd=0.13)\n",
    " if (Y<0) {\n",
    " Z[i] <- Z[i-1]\n",
    " next }\n",
    " if(p2c(x=Z[i-1],y=Y,beta=b))\n",
    " {\n",
    "  Z[i] <- Y\n",
    "  p <- p+1\n",
    " } else{\n",
    " Z[i] <- Z[i-1]\n",
    "       } \n",
    "}\n",
    " return (list(\"chain\"=Z,\"acc.prob\"=p/N))\n",
    "}\n",
    "\n",
    "\n",
    "par(mfrow=c(3,1))\n",
    "\n",
    "A <- MCA(b=0.99)\n",
    "B <- MCNA(b=0.99)\n",
    "\n",
    "cat(\"The acceptance probability for MCA at beta= 0.99 is\",A$acc.prob,\"\\n\")\n",
    "ts.plot(A$chain[.8e4:1e4],lwd=2,\n",
    "xlab=\"Iteration\",col=\"red\",ylab=\"\",\n",
    "main=expression(paste(beta,\" = 0.99\")))\n",
    "cat(\"The acceptance probability for MCNA at beta= 0.99 is\",B$acc.prob,\"\\n\")\n",
    "lines(B$chain[.8e4:1e4],\n",
    "xlab=\"Iteration\",col=\"blue\",ylab=\"\",\n",
    "main=expression(paste(beta,\" = 0.99\")))\n",
    "\n",
    "A <- MCA(b=0.90)\n",
    "B <- MCNA(b=0.90)\n",
    "\n",
    "cat(\"The acceptance probability for MCA at beta= 0.90 is\",A$acc.prob,\"\\n\")\n",
    "ts.plot(A$chain[.8e4:1e4],lwd=2,\n",
    "xlab=\"Iteration\",col=\"red\",ylab=\"\",\n",
    "main=expression(paste(beta,\" = 0.90\")))\n",
    "cat(\"The acceptance probability for MCNA at beta= 0.90 is\",B$acc.prob,\"\\n\")\n",
    "lines(B$chain[.8e4:1e4],\n",
    "xlab=\"Iteration\",col=\"blue\",ylab=\"\",\n",
    "main=expression(paste(beta,\" = 0.90\")))\n",
    "\n",
    "A <- MCA(b=0.75)\n",
    "B <- MCNA(b=0.75)\n",
    "\n",
    "cat(\"The acceptance probability for MCA at beta= 0.75 is\",A$acc.prob,\"\\n\")\n",
    "ts.plot(A$chain[.8e4:1e4],lwd=2,\n",
    "xlab=\"Iteration\",col=\"red\",ylab=\"\",\n",
    "main=expression(paste(beta,\" = 0.75\")))\n",
    "cat(\"The acceptance probability for MCNA at beta= 0.75 is\",B$acc.prob,\"\\n\")\n",
    "lines(B$chain[.8e4:1e4],\n",
    "xlab=\"Iteration\",col=\"blue\",ylab=\"\",\n",
    "main=expression(paste(beta,\" = 0.75\")))"
   ]
  },
  {
   "cell_type": "code",
   "execution_count": null,
   "id": "controlling-concord",
   "metadata": {},
   "outputs": [],
   "source": []
  }
 ],
 "metadata": {
  "kernelspec": {
   "display_name": "R",
   "language": "R",
   "name": "ir"
  },
  "language_info": {
   "codemirror_mode": "r",
   "file_extension": ".r",
   "mimetype": "text/x-r-source",
   "name": "R",
   "pygments_lexer": "r",
   "version": "3.6.1"
  }
 },
 "nbformat": 4,
 "nbformat_minor": 5
}
